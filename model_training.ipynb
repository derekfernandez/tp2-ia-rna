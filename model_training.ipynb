{
 "cells": [
  {
   "cell_type": "code",
   "execution_count": 1,
   "metadata": {},
   "outputs": [
    {
     "name": "stderr",
     "output_type": "stream",
     "text": [
      "Using TensorFlow backend.\n"
     ]
    }
   ],
   "source": [
    "from preprocess import *\n",
    "import keras\n",
    "import config\n",
    "from keras.models import Sequential\n",
    "from keras.layers import Dense, Flatten, InputLayer\n",
    "from keras.utils import to_categorical"
   ]
  },
  {
   "cell_type": "code",
   "execution_count": 2,
   "metadata": {},
   "outputs": [
    {
     "name": "stderr",
     "output_type": "stream",
     "text": [
      "Saving vectors of label - 'negative': 100%|████████████████████████████████████████| 1580/1580 [00:16<00:00, 97.06it/s]\n",
      "Saving vectors of label - 'sheila': 100%|██████████████████████████████████████████| 1537/1537 [00:15<00:00, 96.93it/s]\n"
     ]
    }
   ],
   "source": [
    "save_data_to_array(path=config.DATA_PATH, max_len=config.n_frames)\n",
    "\n",
    "X_train, X_test, y_train, y_test = get_train_test(path=config.DATA_PATH)\n",
    "\n",
    "y_train_hot = to_categorical(y_train)\n",
    "y_test_hot = to_categorical(y_test)"
   ]
  },
  {
   "cell_type": "code",
   "execution_count": 3,
   "metadata": {},
   "outputs": [],
   "source": [
    "def get_model(n_hidden_layers):\n",
    "    fc_val = [2 << i for i in range(n_hidden_layers)]\n",
    "    fc_val.sort(reverse=True)\n",
    "    \n",
    "    model = Sequential()\n",
    "    model.add(Flatten())\n",
    "    \n",
    "    for ix, val in enumerate(fc_val, 1):\n",
    "        if ix == 1:\n",
    "            model.add(Dense(val, activation='relu', input_shape=(config.n_mels, config.n_frames, 1)))\n",
    "        elif ix == n_hidden_layers:\n",
    "            assert(val == config.n_classes)\n",
    "            model.add(Dense(config.n_classes, activation='softmax'))\n",
    "        else:\n",
    "            model.add(Dense(val, activation='relu'))\n",
    "    \n",
    "    model.compile(loss=keras.losses.categorical_crossentropy, \n",
    "                  optimizer=keras.optimizers.Adadelta(),\n",
    "                  metrics=['accuracy'])\n",
    "    return model"
   ]
  },
  {
   "cell_type": "code",
   "execution_count": 4,
   "metadata": {},
   "outputs": [
    {
     "name": "stdout",
     "output_type": "stream",
     "text": [
      "Train on 1870 samples, validate on 1247 samples\n",
      "Epoch 1/50\n",
      "1870/1870 [==============================] - ETA: 13s - loss: 4.6530 - accuracy: 0.500 - ETA: 1s - loss: 5.6282 - accuracy: 0.518 - ETA: 0s - loss: 3.9580 - accuracy: 0.52 - 1s 702us/step - loss: 3.4032 - accuracy: 0.5396 - val_loss: 1.4182 - val_accuracy: 0.5341\n",
      "Epoch 2/50\n",
      "1870/1870 [==============================] - ETA: 0s - loss: 1.6847 - accuracy: 0.46 - ETA: 0s - loss: 0.7569 - accuracy: 0.68 - ETA: 0s - loss: 0.6397 - accuracy: 0.72 - 0s 99us/step - loss: 0.5804 - accuracy: 0.7551 - val_loss: 0.2840 - val_accuracy: 0.9038\n",
      "Epoch 3/50\n",
      "1870/1870 [==============================] - ETA: 0s - loss: 0.2599 - accuracy: 0.91 - ETA: 0s - loss: 0.2786 - accuracy: 0.89 - ETA: 0s - loss: 0.2844 - accuracy: 0.89 - 0s 103us/step - loss: 0.2971 - accuracy: 0.8893 - val_loss: 0.4121 - val_accuracy: 0.8107\n",
      "Epoch 4/50\n",
      "1870/1870 [==============================] - ETA: 0s - loss: 0.2856 - accuracy: 0.90 - ETA: 0s - loss: 0.2858 - accuracy: 0.89 - ETA: 0s - loss: 0.2545 - accuracy: 0.90 - 0s 104us/step - loss: 0.2488 - accuracy: 0.9107 - val_loss: 0.2003 - val_accuracy: 0.9158\n",
      "Epoch 5/50\n",
      "1870/1870 [==============================] - ETA: 0s - loss: 0.2457 - accuracy: 0.91 - ETA: 0s - loss: 0.1800 - accuracy: 0.94 - ETA: 0s - loss: 0.2636 - accuracy: 0.90 - 0s 104us/step - loss: 0.2674 - accuracy: 0.8989 - val_loss: 0.2293 - val_accuracy: 0.9046\n",
      "Epoch 6/50\n",
      "1870/1870 [==============================] - ETA: 0s - loss: 0.2125 - accuracy: 0.91 - ETA: 0s - loss: 0.1788 - accuracy: 0.93 - ETA: 0s - loss: 0.1884 - accuracy: 0.93 - 0s 100us/step - loss: 0.1849 - accuracy: 0.9326 - val_loss: 0.1606 - val_accuracy: 0.9431\n",
      "Epoch 7/50\n",
      "1870/1870 [==============================] - ETA: 0s - loss: 0.1273 - accuracy: 0.96 - ETA: 0s - loss: 0.1391 - accuracy: 0.95 - ETA: 0s - loss: 0.1351 - accuracy: 0.95 - 0s 105us/step - loss: 0.1588 - accuracy: 0.9433 - val_loss: 0.8036 - val_accuracy: 0.6945\n",
      "Epoch 8/50\n",
      "1870/1870 [==============================] - ETA: 0s - loss: 0.7605 - accuracy: 0.71 - ETA: 0s - loss: 0.4793 - accuracy: 0.81 - ETA: 0s - loss: 0.3521 - accuracy: 0.86 - 0s 101us/step - loss: 0.3144 - accuracy: 0.8824 - val_loss: 0.1345 - val_accuracy: 0.9567\n",
      "Epoch 9/50\n",
      "1870/1870 [==============================] - ETA: 0s - loss: 0.1103 - accuracy: 0.96 - ETA: 0s - loss: 0.1101 - accuracy: 0.96 - ETA: 0s - loss: 0.1518 - accuracy: 0.94 - 0s 102us/step - loss: 0.1526 - accuracy: 0.9439 - val_loss: 0.1649 - val_accuracy: 0.9399\n",
      "Epoch 10/50\n",
      "1870/1870 [==============================] - ETA: 0s - loss: 0.2368 - accuracy: 0.90 - ETA: 0s - loss: 0.1065 - accuracy: 0.96 - ETA: 0s - loss: 0.1562 - accuracy: 0.93 - 0s 104us/step - loss: 0.1741 - accuracy: 0.9267 - val_loss: 0.1374 - val_accuracy: 0.9519\n",
      "Epoch 11/50\n",
      "1870/1870 [==============================] - ETA: 0s - loss: 0.0986 - accuracy: 0.96 - ETA: 0s - loss: 0.1709 - accuracy: 0.94 - ETA: 0s - loss: 0.1415 - accuracy: 0.95 - 0s 104us/step - loss: 0.1335 - accuracy: 0.9567 - val_loss: 0.1210 - val_accuracy: 0.9495\n",
      "Epoch 12/50\n",
      "1870/1870 [==============================] - ETA: 0s - loss: 0.0810 - accuracy: 0.96 - ETA: 0s - loss: 0.0616 - accuracy: 0.98 - ETA: 0s - loss: 0.0596 - accuracy: 0.98 - 0s 109us/step - loss: 0.0835 - accuracy: 0.9674 - val_loss: 0.3110 - val_accuracy: 0.8765\n",
      "Epoch 13/50\n",
      "1870/1870 [==============================] - ETA: 0s - loss: 0.2888 - accuracy: 0.90 - ETA: 0s - loss: 0.1539 - accuracy: 0.94 - ETA: 0s - loss: 0.1062 - accuracy: 0.96 - 0s 100us/step - loss: 0.1009 - accuracy: 0.9636 - val_loss: 0.1275 - val_accuracy: 0.9543\n",
      "Epoch 14/50\n",
      "1870/1870 [==============================] - ETA: 0s - loss: 0.0684 - accuracy: 0.96 - ETA: 0s - loss: 0.0634 - accuracy: 0.97 - ETA: 0s - loss: 0.1385 - accuracy: 0.95 - 0s 103us/step - loss: 0.1341 - accuracy: 0.9556 - val_loss: 0.1092 - val_accuracy: 0.9639\n",
      "Epoch 15/50\n",
      "1870/1870 [==============================] - ETA: 0s - loss: 0.0788 - accuracy: 0.98 - ETA: 0s - loss: 0.0524 - accuracy: 0.98 - ETA: 0s - loss: 0.0478 - accuracy: 0.98 - 0s 104us/step - loss: 0.0446 - accuracy: 0.9877 - val_loss: 0.1298 - val_accuracy: 0.9543\n",
      "Epoch 16/50\n",
      "1870/1870 [==============================] - ETA: 0s - loss: 0.0503 - accuracy: 0.98 - ETA: 0s - loss: 0.2774 - accuracy: 0.93 - ETA: 0s - loss: 0.2721 - accuracy: 0.92 - 0s 103us/step - loss: 0.2417 - accuracy: 0.9342 - val_loss: 0.1081 - val_accuracy: 0.9591\n",
      "Epoch 17/50\n",
      "1870/1870 [==============================] - ETA: 0s - loss: 0.0356 - accuracy: 0.99 - ETA: 0s - loss: 0.0494 - accuracy: 0.97 - ETA: 0s - loss: 0.0517 - accuracy: 0.98 - 0s 104us/step - loss: 0.0535 - accuracy: 0.9813 - val_loss: 0.0903 - val_accuracy: 0.9663\n",
      "Epoch 18/50\n",
      "1870/1870 [==============================] - ETA: 0s - loss: 0.0510 - accuracy: 0.97 - ETA: 0s - loss: 0.0471 - accuracy: 0.98 - ETA: 0s - loss: 0.0495 - accuracy: 0.98 - 0s 107us/step - loss: 0.0454 - accuracy: 0.9840 - val_loss: 0.0866 - val_accuracy: 0.9639\n",
      "Epoch 19/50\n",
      "1870/1870 [==============================] - ETA: 0s - loss: 0.0168 - accuracy: 1.00 - ETA: 0s - loss: 0.0240 - accuracy: 0.99 - ETA: 0s - loss: 0.0331 - accuracy: 0.99 - 0s 99us/step - loss: 0.0311 - accuracy: 0.9914 - val_loss: 0.0914 - val_accuracy: 0.9671\n",
      "Epoch 20/50\n",
      "1870/1870 [==============================] - ETA: 0s - loss: 0.0121 - accuracy: 1.00 - ETA: 0s - loss: 0.0214 - accuracy: 0.99 - ETA: 0s - loss: 0.2100 - accuracy: 0.93 - 0s 102us/step - loss: 0.1939 - accuracy: 0.9396 - val_loss: 0.0835 - val_accuracy: 0.9695\n",
      "Epoch 21/50\n",
      "1870/1870 [==============================] - ETA: 0s - loss: 0.0345 - accuracy: 0.99 - ETA: 0s - loss: 0.0495 - accuracy: 0.98 - ETA: 0s - loss: 0.0417 - accuracy: 0.98 - 0s 104us/step - loss: 0.0411 - accuracy: 0.9861 - val_loss: 0.0747 - val_accuracy: 0.9711\n",
      "Epoch 22/50\n",
      "1870/1870 [==============================] - ETA: 0s - loss: 0.0123 - accuracy: 0.99 - ETA: 0s - loss: 0.0159 - accuracy: 0.99 - ETA: 0s - loss: 0.0278 - accuracy: 0.99 - 0s 103us/step - loss: 0.0300 - accuracy: 0.9904 - val_loss: 0.0752 - val_accuracy: 0.9679\n",
      "Epoch 23/50\n",
      "1870/1870 [==============================] - ETA: 0s - loss: 0.0187 - accuracy: 1.00 - ETA: 0s - loss: 0.0097 - accuracy: 1.00 - ETA: 0s - loss: 0.0225 - accuracy: 0.99 - 0s 103us/step - loss: 0.0516 - accuracy: 0.9850 - val_loss: 0.7541 - val_accuracy: 0.7995\n",
      "Epoch 24/50\n",
      "1870/1870 [==============================] - ETA: 0s - loss: 0.6855 - accuracy: 0.82 - ETA: 0s - loss: 0.2344 - accuracy: 0.92 - ETA: 0s - loss: 0.1522 - accuracy: 0.95 - 0s 102us/step - loss: 0.1290 - accuracy: 0.9626 - val_loss: 0.0764 - val_accuracy: 0.9743\n",
      "Epoch 25/50\n",
      "1870/1870 [==============================] - ETA: 0s - loss: 0.0176 - accuracy: 0.99 - ETA: 0s - loss: 0.0132 - accuracy: 0.99 - ETA: 0s - loss: 0.0128 - accuracy: 0.99 - 0s 101us/step - loss: 0.0132 - accuracy: 0.9979 - val_loss: 0.0807 - val_accuracy: 0.9751\n",
      "Epoch 26/50\n",
      "1870/1870 [==============================] - ETA: 0s - loss: 0.0207 - accuracy: 0.99 - ETA: 0s - loss: 0.0111 - accuracy: 0.99 - ETA: 0s - loss: 0.0091 - accuracy: 0.99 - 0s 105us/step - loss: 0.0156 - accuracy: 0.9952 - val_loss: 0.4193 - val_accuracy: 0.9126\n",
      "Epoch 27/50\n",
      "1870/1870 [==============================] - ETA: 0s - loss: 0.2877 - accuracy: 0.90 - ETA: 0s - loss: 0.4431 - accuracy: 0.86 - ETA: 0s - loss: 0.2892 - accuracy: 0.91 - 0s 102us/step - loss: 0.2440 - accuracy: 0.9257 - val_loss: 0.1186 - val_accuracy: 0.9607\n",
      "Epoch 28/50\n",
      "1870/1870 [==============================] - ETA: 0s - loss: 0.0148 - accuracy: 0.99 - ETA: 0s - loss: 0.0189 - accuracy: 0.99 - ETA: 0s - loss: 0.0189 - accuracy: 0.99 - 0s 102us/step - loss: 0.0170 - accuracy: 0.9947 - val_loss: 0.0853 - val_accuracy: 0.9735\n",
      "Epoch 29/50\n",
      "1870/1870 [==============================] - ETA: 0s - loss: 0.0056 - accuracy: 1.00 - ETA: 0s - loss: 0.0074 - accuracy: 1.00 - ETA: 0s - loss: 0.0088 - accuracy: 0.99 - 0s 102us/step - loss: 0.0081 - accuracy: 0.9989 - val_loss: 0.0868 - val_accuracy: 0.9727\n",
      "Epoch 30/50\n",
      "1870/1870 [==============================] - ETA: 0s - loss: 0.0067 - accuracy: 1.00 - ETA: 0s - loss: 0.0052 - accuracy: 1.00 - ETA: 0s - loss: 0.0051 - accuracy: 1.00 - 0s 100us/step - loss: 0.0048 - accuracy: 1.0000 - val_loss: 0.0909 - val_accuracy: 0.9711\n"
     ]
    },
    {
     "name": "stdout",
     "output_type": "stream",
     "text": [
      "Epoch 31/50\n",
      "1870/1870 [==============================] - ETA: 0s - loss: 0.0041 - accuracy: 1.00 - ETA: 0s - loss: 0.0030 - accuracy: 1.00 - ETA: 0s - loss: 0.0031 - accuracy: 1.00 - 0s 96us/step - loss: 0.0041 - accuracy: 0.9995 - val_loss: 0.2703 - val_accuracy: 0.9463\n",
      "Epoch 32/50\n",
      "1870/1870 [==============================] - ETA: 0s - loss: 0.0541 - accuracy: 0.98 - ETA: 0s - loss: 0.0210 - accuracy: 0.99 - ETA: 0s - loss: 0.0227 - accuracy: 0.99 - 0s 95us/step - loss: 0.0666 - accuracy: 0.9834 - val_loss: 1.2085 - val_accuracy: 0.7394\n",
      "Epoch 33/50\n",
      "1870/1870 [==============================] - ETA: 0s - loss: 1.0381 - accuracy: 0.78 - ETA: 0s - loss: 0.2885 - accuracy: 0.91 - ETA: 0s - loss: 0.1812 - accuracy: 0.94 - 0s 103us/step - loss: 0.1514 - accuracy: 0.9578 - val_loss: 0.0948 - val_accuracy: 0.9695\n",
      "Epoch 34/50\n",
      "1870/1870 [==============================] - ETA: 0s - loss: 0.0152 - accuracy: 1.00 - ETA: 0s - loss: 0.0128 - accuracy: 0.99 - ETA: 0s - loss: 0.0099 - accuracy: 0.99 - 0s 93us/step - loss: 0.0096 - accuracy: 0.9995 - val_loss: 0.0993 - val_accuracy: 0.9695\n",
      "Epoch 35/50\n",
      "1870/1870 [==============================] - ETA: 0s - loss: 0.0511 - accuracy: 0.98 - ETA: 0s - loss: 0.0128 - accuracy: 0.99 - ETA: 0s - loss: 0.0091 - accuracy: 0.99 - 0s 98us/step - loss: 0.0086 - accuracy: 0.9984 - val_loss: 0.0924 - val_accuracy: 0.9703\n",
      "Epoch 36/50\n",
      "1870/1870 [==============================] - ETA: 0s - loss: 0.0017 - accuracy: 1.00 - ETA: 0s - loss: 0.0030 - accuracy: 1.00 - ETA: 0s - loss: 0.0027 - accuracy: 1.00 - 0s 95us/step - loss: 0.0029 - accuracy: 1.0000 - val_loss: 0.0968 - val_accuracy: 0.9719\n",
      "Epoch 37/50\n",
      "1870/1870 [==============================] - ETA: 0s - loss: 0.0038 - accuracy: 1.00 - ETA: 0s - loss: 0.0025 - accuracy: 1.00 - ETA: 0s - loss: 0.0022 - accuracy: 1.00 - 0s 100us/step - loss: 0.0021 - accuracy: 1.0000 - val_loss: 0.1065 - val_accuracy: 0.9687\n",
      "Epoch 38/50\n",
      "1870/1870 [==============================] - ETA: 0s - loss: 0.0013 - accuracy: 1.00 - ETA: 0s - loss: 0.0014 - accuracy: 1.00 - ETA: 0s - loss: 0.0015 - accuracy: 1.00 - 0s 94us/step - loss: 0.0014 - accuracy: 1.0000 - val_loss: 0.1140 - val_accuracy: 0.9695\n",
      "Epoch 39/50\n",
      "1870/1870 [==============================] - ETA: 0s - loss: 5.9579e-04 - accuracy: 1.00 - ETA: 0s - loss: 8.6005e-04 - accuracy: 1.00 - ETA: 0s - loss: 0.0011 - accuracy: 1.0000   - 0s 99us/step - loss: 0.0012 - accuracy: 1.0000 - val_loss: 0.1318 - val_accuracy: 0.9663\n",
      "Epoch 40/50\n",
      "1870/1870 [==============================] - ETA: 0s - loss: 0.0015 - accuracy: 1.00 - ETA: 0s - loss: 8.6713e-04 - accuracy: 1.00 - ETA: 0s - loss: 0.1227 - accuracy: 0.9718   - 0s 95us/step - loss: 0.1265 - accuracy: 0.9695 - val_loss: 0.0923 - val_accuracy: 0.9631\n",
      "Epoch 41/50\n",
      "1870/1870 [==============================] - ETA: 0s - loss: 0.0216 - accuracy: 0.98 - ETA: 0s - loss: 0.0164 - accuracy: 0.99 - ETA: 0s - loss: 0.0137 - accuracy: 0.99 - 0s 95us/step - loss: 0.0134 - accuracy: 0.9952 - val_loss: 0.1017 - val_accuracy: 0.9663\n",
      "Epoch 42/50\n",
      "1870/1870 [==============================] - ETA: 0s - loss: 0.0043 - accuracy: 1.00 - ETA: 0s - loss: 0.0049 - accuracy: 1.00 - ETA: 0s - loss: 0.0037 - accuracy: 1.00 - 0s 100us/step - loss: 0.0036 - accuracy: 1.0000 - val_loss: 0.1141 - val_accuracy: 0.9695\n",
      "Epoch 43/50\n",
      "1870/1870 [==============================] - ETA: 0s - loss: 0.0024 - accuracy: 1.00 - ETA: 0s - loss: 0.0022 - accuracy: 1.00 - ETA: 0s - loss: 0.0019 - accuracy: 1.00 - 0s 94us/step - loss: 0.0018 - accuracy: 1.0000 - val_loss: 0.1216 - val_accuracy: 0.9695\n",
      "Epoch 44/50\n",
      "1870/1870 [==============================] - ETA: 0s - loss: 0.0021 - accuracy: 1.00 - ETA: 0s - loss: 0.0013 - accuracy: 1.00 - ETA: 0s - loss: 0.0014 - accuracy: 1.00 - 0s 99us/step - loss: 0.0013 - accuracy: 1.0000 - val_loss: 0.1333 - val_accuracy: 0.9703\n",
      "Epoch 45/50\n",
      "1870/1870 [==============================] - ETA: 0s - loss: 0.0015 - accuracy: 1.00 - ETA: 0s - loss: 9.2779e-04 - accuracy: 1.00 - ETA: 0s - loss: 8.8449e-04 - accuracy: 1.00 - 0s 97us/step - loss: 0.0063 - accuracy: 0.9995 - val_loss: 0.2663 - val_accuracy: 0.9278\n",
      "Epoch 46/50\n",
      "1870/1870 [==============================] - ETA: 0s - loss: 0.1072 - accuracy: 0.96 - ETA: 0s - loss: 0.1110 - accuracy: 0.97 - ETA: 0s - loss: 0.0619 - accuracy: 0.98 - 0s 99us/step - loss: 0.0553 - accuracy: 0.9861 - val_loss: 0.0839 - val_accuracy: 0.9743\n",
      "Epoch 47/50\n",
      "1870/1870 [==============================] - ETA: 0s - loss: 0.0040 - accuracy: 1.00 - ETA: 0s - loss: 0.0031 - accuracy: 1.00 - ETA: 0s - loss: 0.0023 - accuracy: 1.00 - 0s 117us/step - loss: 0.0021 - accuracy: 1.0000 - val_loss: 0.0882 - val_accuracy: 0.9759\n",
      "Epoch 48/50\n",
      "1870/1870 [==============================] - ETA: 0s - loss: 0.0015 - accuracy: 1.00 - ETA: 0s - loss: 0.0014 - accuracy: 1.00 - ETA: 0s - loss: 0.0013 - accuracy: 1.00 - 0s 106us/step - loss: 0.0012 - accuracy: 1.0000 - val_loss: 0.0907 - val_accuracy: 0.9767\n",
      "Epoch 49/50\n",
      "1870/1870 [==============================] - ETA: 0s - loss: 7.3553e-04 - accuracy: 1.00 - ETA: 0s - loss: 7.6366e-04 - accuracy: 1.00 - ETA: 0s - loss: 8.2913e-04 - accuracy: 1.00 - 0s 99us/step - loss: 8.4885e-04 - accuracy: 1.0000 - val_loss: 0.0915 - val_accuracy: 0.9767\n",
      "Epoch 50/50\n",
      "1870/1870 [==============================] - ETA: 0s - loss: 3.5302e-04 - accuracy: 1.00 - ETA: 0s - loss: 6.6222e-04 - accuracy: 1.00 - ETA: 0s - loss: 6.0970e-04 - accuracy: 1.00 - 0s 99us/step - loss: 5.9423e-04 - accuracy: 1.0000 - val_loss: 0.1046 - val_accuracy: 0.9751\n",
      "Model: \"sequential_1\"\n",
      "_________________________________________________________________\n",
      "Layer (type)                 Output Shape              Param #   \n",
      "=================================================================\n",
      "flatten_1 (Flatten)          (None, 1764)              0         \n",
      "_________________________________________________________________\n",
      "dense_1 (Dense)              (None, 128)               225920    \n",
      "_________________________________________________________________\n",
      "dense_2 (Dense)              (None, 64)                8256      \n",
      "_________________________________________________________________\n",
      "dense_3 (Dense)              (None, 32)                2080      \n",
      "_________________________________________________________________\n",
      "dense_4 (Dense)              (None, 16)                528       \n",
      "_________________________________________________________________\n",
      "dense_5 (Dense)              (None, 8)                 136       \n",
      "_________________________________________________________________\n",
      "dense_6 (Dense)              (None, 4)                 36        \n",
      "_________________________________________________________________\n",
      "dense_7 (Dense)              (None, 2)                 10        \n",
      "=================================================================\n",
      "Total params: 236,966\n",
      "Trainable params: 236,966\n",
      "Non-trainable params: 0\n",
      "_________________________________________________________________\n"
     ]
    }
   ],
   "source": [
    "model = get_model(7)\n",
    "model.fit(X_train, y_train_hot, batch_size=config.batch_size, epochs=config.n_epochs, verbose=1, validation_data=(X_test, y_test_hot))\n",
    "model.summary()\n",
    "\n",
    "model.save('./rna_mlp') "
   ]
  },
  {
   "cell_type": "code",
   "execution_count": null,
   "metadata": {},
   "outputs": [],
   "source": []
  }
 ],
 "metadata": {
  "kernelspec": {
   "display_name": "Python 3",
   "language": "python",
   "name": "python3"
  },
  "language_info": {
   "codemirror_mode": {
    "name": "ipython",
    "version": 3
   },
   "file_extension": ".py",
   "mimetype": "text/x-python",
   "name": "python",
   "nbconvert_exporter": "python",
   "pygments_lexer": "ipython3",
   "version": "3.7.4"
  }
 },
 "nbformat": 4,
 "nbformat_minor": 2
}
